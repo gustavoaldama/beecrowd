{
 "cells": [
  {
   "cell_type": "code",
   "execution_count": null,
   "id": "fcd21deb",
   "metadata": {},
   "outputs": [],
   "source": [
    "# 1039 - Flores de Fogo #\n",
    "\n",
    "import math as mt\n",
    "while True:\n",
    "    try:\n",
    "        a, b, c, d, e, f = map(int, input().split(\" \"))\n",
    "        sum = mt.pow(b-e,2) + mt.pow(c-f,2)\n",
    "        dist = mt.pow(sum,0.5)\n",
    "        if dist+d <= a:\n",
    "            print(\"RICO\")\n",
    "        else:\n",
    "            print(\"MORTO\")\n",
    "    except EOFError:\n",
    "        break"
   ]
  },
  {
   "cell_type": "code",
   "execution_count": null,
   "id": "81ded056",
   "metadata": {},
   "outputs": [],
   "source": [
    "# 2518 - Escada do DINF #\n",
    "\n",
    "import math as mt\n",
    "while True:\n",
    "    try:\n",
    "        n = int(input())\n",
    "        h, c, l = map(int, input().split(\" \"))\n",
    "        d = mt.pow(h*h+c*c,0.5)\n",
    "        a = n*d*l/10000\n",
    "        print(\"%.4f\"%a)\n",
    "    except EOFError:\n",
    "        break"
   ]
  },
  {
   "cell_type": "code",
   "execution_count": null,
   "id": "6744ccd2",
   "metadata": {},
   "outputs": [],
   "source": [
    "# 2773 - Menor Caminho\n",
    "\n",
    "#(x)\n",
    "\n",
    "while True:\n",
    "    try:\n",
    "        \n",
    "        import math as mt\n",
    "        xi, yi, xf, yf, v = map(int, input().split(\" \"))\n",
    "        xl, yl, xr, yr = map(int, input().split(\" \"))\n",
    "\n",
    "        s1 = mt.pow(xl-xi,2)+mt.pow(yr-yi,2)\n",
    "        s2 = mt.pow(xr-xi,2)+mt.pow(yl-yi,2)\n",
    "        d1 = mt.pow(s1,0.5)\n",
    "        d2 = mt.pow(s2,0.5)\n",
    "        d = []\n",
    "\n",
    "        d.append(d1)\n",
    "        d.append(d2)\n",
    "\n",
    "        if min(d) == d1:\n",
    "            s3 = mt.pow(xl-xf,2)+mt.pow(yr-yf,2)\n",
    "            d3 = mt.pow(s3,0.5)\n",
    "            dist = d1+d3\n",
    "            t = dist/v\n",
    "            print(\"%.1f\"%t)\n",
    "        else:\n",
    "            s3 = mt.pow(xr-xf,2)+mt.pow(yl-yf,2)\n",
    "            d3 = mt.pow(s3,0.5)\n",
    "            dist = d2+d3\n",
    "            t = dist/v\n",
    "            print(\"%.1f\"%t)\n",
    "    except EOFError:\n",
    "        break"
   ]
  },
  {
   "cell_type": "code",
   "execution_count": null,
   "id": "f3e949df",
   "metadata": {},
   "outputs": [],
   "source": [
    "# 3152 - Samuel, O Cafeicultor\n",
    "\n",
    "a1, b1 = map(int, input().split(\" \"))\n",
    "c1, d1 = map(int, input().split(\" \"))\n",
    "e1, f1 = map(int, input().split(\" \"))\n",
    "g1, h1 = map(int, input().split(\" \"))\n",
    "\n",
    "a2, b2 = map(int, input().split(\" \"))\n",
    "c2, d2 = map(int, input().split(\" \"))\n",
    "e2, f2 = map(int, input().split(\" \"))\n",
    "g2, h2 = map(int, input().split(\" \"))\n",
    "\n",
    "\n",
    "A1 = abs(a1*d1+c1*f1+e1*h1+g1*b1-b1*c1-d1*e1-f1*g1-h1*a1)/2\n",
    "\n",
    "A2 = abs(a2*d2+c2*f2+e2*h2+g2*b2-b2*c2-d2*e2-f2*g2-h2*a2)/2\n",
    "\n",
    "if A1>A2:\n",
    "    print(\"terreno A\")\n",
    "if A1<A2:\n",
    "    print(\"terreno B\")"
   ]
  },
  {
   "cell_type": "code",
   "execution_count": null,
   "id": "bd071bbb",
   "metadata": {},
   "outputs": [],
   "source": [
    "# 2840 - Balao++\n",
    "import math as mt\n",
    "r, l = map(int, input().split(' '))\n",
    "v = (4/3)*r*r*r*3.1415\n",
    "n = mt.floor(l/v)\n",
    "print(n)"
   ]
  },
  {
   "cell_type": "code",
   "execution_count": null,
   "id": "e52d6a58",
   "metadata": {},
   "outputs": [],
   "source": []
  }
 ],
 "metadata": {
  "kernelspec": {
   "display_name": "Python 3 (ipykernel)",
   "language": "python",
   "name": "python3"
  },
  "language_info": {
   "codemirror_mode": {
    "name": "ipython",
    "version": 3
   },
   "file_extension": ".py",
   "mimetype": "text/x-python",
   "name": "python",
   "nbconvert_exporter": "python",
   "pygments_lexer": "ipython3",
   "version": "3.9.7"
  }
 },
 "nbformat": 4,
 "nbformat_minor": 5
}
