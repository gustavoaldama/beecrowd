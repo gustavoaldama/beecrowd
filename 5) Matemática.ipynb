{
 "cells": [
  {
   "cell_type": "code",
   "execution_count": null,
   "id": "040bdd38",
   "metadata": {},
   "outputs": [],
   "source": [
    "# 1169 - Trigo no Tabuleiro \n",
    "\n",
    "import math as mt\n",
    "n = int(input())\n",
    "\n",
    "for _ in range(n):\n",
    "    k = int(input())\n",
    "    l = mt.pow(2,k)\n",
    "    m = mt.floor(l/12000)\n",
    "    print(m,'kg')\n"
   ]
  },
  {
   "cell_type": "code",
   "execution_count": null,
   "id": "95f44377",
   "metadata": {},
   "outputs": [],
   "source": [
    "# 1170 - Blobs \n",
    "\n",
    "n = int(input())\n",
    "ents = []\n",
    "for _ in range(n):\n",
    "    ents.append(float(input()))\n",
    "\n",
    "for i in ents:\n",
    "    x = i\n",
    "    c = 0\n",
    "    while x>1:\n",
    "        c = c+1\n",
    "        x = x/2\n",
    "    print(c,'dias')"
   ]
  },
  {
   "cell_type": "code",
   "execution_count": null,
   "id": "e19ef714",
   "metadata": {},
   "outputs": [],
   "source": [
    "# 1116 - Soma de Fatoriais \n",
    "\n",
    "while True:\n",
    "    try:\n",
    "        a, b = map(int, input().split(\" \"))\n",
    "        \n",
    "        a1 = a\n",
    "        b1 = b\n",
    "        \n",
    "        if a1 == 0:\n",
    "            a1 = 1\n",
    "        else:\n",
    "            for i in range(1,a1):\n",
    "                a1=a1*(a-i)\n",
    "        \n",
    "        if b1 == 0:\n",
    "            b1 = 1\n",
    "        else:\n",
    "            for i in range(1,b1):\n",
    "                b1 = b1 * (b-i)\n",
    "        \n",
    "        print(a1 + b1)\n",
    "        \n",
    "    except EOFError:\n",
    "        break"
   ]
  },
  {
   "cell_type": "code",
   "execution_count": null,
   "id": "b7105e9f",
   "metadata": {},
   "outputs": [],
   "source": [
    "# 1198 - O Bravo Guerreiro Hashmat \n",
    "\n",
    "while True:\n",
    "    try:\n",
    "        a, b = map(int, input().split(\" \"))\n",
    "        print(abs(b-a))\n",
    "    \n",
    "    except EOFError:\n",
    "        break"
   ]
  },
  {
   "cell_type": "code",
   "execution_count": null,
   "id": "15622dda",
   "metadata": {},
   "outputs": [],
   "source": [
    "# 1240 - Encaixa ou Não Encaixa I\n",
    "\n",
    "import math as mt\n",
    "n = int(input())\n",
    "\n",
    "for _ in range(n):\n",
    "    a, b = map(int, input().split(\" \"))\n",
    "    l = mt.floor(mt.log10(b))+1\n",
    "    x = a-b\n",
    "    if x % mt.pow(10,l) == 0:\n",
    "        print('encaixa')\n",
    "    else:\n",
    "        print('nao encaixa')"
   ]
  },
  {
   "cell_type": "code",
   "execution_count": null,
   "id": "b6d69877",
   "metadata": {},
   "outputs": [],
   "source": [
    "# 1422 - Bacterias\n",
    "\n",
    "import numpy as np\n",
    "\n",
    "n = int(input())\n",
    "\n",
    "while n!= 0:\n",
    "    l = np.zeros(n,dtype=int)\n",
    "    l[0],l[1],l[2],l[3] = map(int, input().split())\n",
    "    l[4] = 2*(l[0]+l[1]+l[2]+l[3])-l[0]\n",
    "    for i in range(5,n):\n",
    "        l[i]=2*l[i-1]-l[i-4]\n",
    "    print(l[n-1])\n",
    "    "
   ]
  },
  {
   "cell_type": "code",
   "execution_count": null,
   "id": "46475d13",
   "metadata": {
    "scrolled": false
   },
   "outputs": [],
   "source": [
    "# 1819 - Estimando a Producao \n",
    "# Problema de Regressao Linear Multivariada \n",
    "\n",
    "#(x)\n",
    "\n",
    "import numpy as np\n",
    "\n",
    "n = int(input())\n",
    "\n",
    "while n!=0:\n",
    "    x = []\n",
    "    y = []\n",
    "    z = []\n",
    "    for _ in range(n):\n",
    "        l = []\n",
    "        l = list(map(int, input().split(\" \")))\n",
    "        x.append(l[0])\n",
    "        y.append(l[1])\n",
    "        z.append(l[2])\n",
    "print(l)"
   ]
  },
  {
   "cell_type": "code",
   "execution_count": null,
   "id": "89b7fe36",
   "metadata": {},
   "outputs": [],
   "source": [
    "# 1921 - Guilherme e Suas Pipas\n",
    "\n",
    "n = int(input())\n",
    "\n",
    "x = n*(n-1)/2-n\n",
    "\n",
    "print(\"%.0f\"%x)"
   ]
  },
  {
   "cell_type": "code",
   "execution_count": null,
   "id": "9cbda707",
   "metadata": {},
   "outputs": [],
   "source": [
    "# 2499 - Triangulo Interno\n",
    "\n",
    "#(x)\n",
    "\n",
    "s, n, m = map(int, input().split())\n",
    "\n",
    "while s!=0 or n!=0 or m!=0:\n",
    "    c1, c2, c3 = map(int, input().split())\n",
    "    x = (c1/n)*((c3-c2)/m)*s\n",
    "    print(\"%0.f\"%x)"
   ]
  },
  {
   "cell_type": "code",
   "execution_count": null,
   "id": "e50cbba0",
   "metadata": {},
   "outputs": [],
   "source": [
    "# 2561 - Tesouro\n",
    "\n",
    "#(x)\n",
    "\n",
    "x = [0,0,0,0]\n",
    "y = [0,0,0,0]\n",
    "x[0],y[0],x[1],y[1] = map(int, input().split())\n",
    "x[2],y[2],x[3],y[3] = map(int, input().split())\n",
    "\n",
    "x.sort()\n",
    "y.sort()\n",
    "\n",
    "a = (x[3]-x[0]) - (x[3]-x[2]) + (x[1]-x[0]) \n",
    "b = (y[3]-y[0]) - (y[3]-y[2]) + (y[1]-y[0])\n",
    "\n",
    "A = (x[2]-x[1])*(y[2]-y[1])\n",
    "\n",
    "if a > 0 and b > 0:\n",
    "    print(\"inexiste\")\n",
    "elif a == 0 and b == 0:\n",
    "    print(\"ponto\")\n",
    "elif ( a > 0 and b == 0 ) or ( a == 0 or b > 0 ):\n",
    "    print(\"linha\")\n",
    "elif A>10:\n",
    "    print(\"grande\")\n",
    "else:\n",
    "    print(\"adequado\")\n",
    "\n",
    "\n",
    "    "
   ]
  },
  {
   "cell_type": "code",
   "execution_count": null,
   "id": "61d44e99",
   "metadata": {},
   "outputs": [],
   "source": [
    "# 2598 - Colocando Radares\n",
    "\n",
    "import math as mt\n",
    "n = int(input())\n",
    "\n",
    "for i in range(n):\n",
    "    a, b = map(int, input().split(\" \"))\n",
    "    x = mt.ceil(a/b)\n",
    "    print(x)"
   ]
  },
  {
   "cell_type": "code",
   "execution_count": null,
   "id": "1d731e94",
   "metadata": {},
   "outputs": [],
   "source": [
    "# 2839 - As Meias de Rangel\n",
    "\n",
    "n = int(input())\n",
    "\n",
    "print(n+1)"
   ]
  },
  {
   "cell_type": "code",
   "execution_count": null,
   "id": "69d18235",
   "metadata": {},
   "outputs": [],
   "source": [
    "# 3257 - Plantando Árvores \n",
    "\n",
    "n = int(input())\n",
    "l = []\n",
    "l = list(map(int, input().split(\" \")))\n",
    "l.sort()\n",
    "for i in range(n):\n",
    "    l[i]=l[i]-(i+1)\n",
    "print(max(l)+n+2)\n"
   ]
  },
  {
   "cell_type": "code",
   "execution_count": null,
   "id": "91349639",
   "metadata": {},
   "outputs": [],
   "source": [
    "# 3216 - Teste Alergico\n",
    "\n",
    "#(x)\n",
    "\n",
    "n = int(input())\n",
    "l = []\n",
    "\n",
    "for _ in range(n):\n",
    "    l.append(int(input()))\n",
    "l.sort()\n",
    "s = sum(l[0:-1])\n",
    "print(s+1)"
   ]
  },
  {
   "cell_type": "code",
   "execution_count": null,
   "id": "a8cd6a35",
   "metadata": {},
   "outputs": [],
   "source": []
  },
  {
   "cell_type": "code",
   "execution_count": null,
   "id": "5882cee9",
   "metadata": {},
   "outputs": [],
   "source": []
  }
 ],
 "metadata": {
  "kernelspec": {
   "display_name": "Python 3 (ipykernel)",
   "language": "python",
   "name": "python3"
  },
  "language_info": {
   "codemirror_mode": {
    "name": "ipython",
    "version": 3
   },
   "file_extension": ".py",
   "mimetype": "text/x-python",
   "name": "python",
   "nbconvert_exporter": "python",
   "pygments_lexer": "ipython3",
   "version": "3.9.7"
  }
 },
 "nbformat": 4,
 "nbformat_minor": 5
}
