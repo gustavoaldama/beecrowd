{
 "cells": [
  {
   "cell_type": "code",
   "execution_count": null,
   "id": "7dae71a7",
   "metadata": {},
   "outputs": [],
   "source": [
    "# 1000 - Hello World! #\n",
    "\n",
    "print(\"Hello World!\")"
   ]
  },
  {
   "cell_type": "code",
   "execution_count": null,
   "id": "30097e24",
   "metadata": {},
   "outputs": [],
   "source": [
    "# 1001 - Extremamente Básico #\n",
    "\n",
    "a = int(input());\n",
    "b = int(input());\n",
    "\n",
    "x = a + b;\n",
    "\n",
    "print(\"X =\",x)"
   ]
  },
  {
   "cell_type": "code",
   "execution_count": null,
   "id": "5e7c7ff2",
   "metadata": {},
   "outputs": [],
   "source": [
    "# 1002 - Área do Círculo #\n",
    "\n",
    "a = float(input());\n",
    "\n",
    "x = a*a*3.14159;\n",
    "\n",
    "print(\"A=%.4f\"%x)"
   ]
  },
  {
   "cell_type": "code",
   "execution_count": null,
   "id": "a9e362a9",
   "metadata": {},
   "outputs": [],
   "source": [
    "# 1003 - Soma Simples #\n",
    "\n",
    "a = int(input());\n",
    "b = int(input());\n",
    "\n",
    "x = a + b;\n",
    "\n",
    "print(\"SOMA =\",x)"
   ]
  },
  {
   "cell_type": "code",
   "execution_count": null,
   "id": "1b3d4239",
   "metadata": {},
   "outputs": [],
   "source": [
    "# 1004 - Produto Simples #\n",
    "\n",
    "a = int(input());\n",
    "b = int(input());\n",
    "\n",
    "x = a*b;\n",
    "\n",
    "print(\"PROD =\",x)"
   ]
  },
  {
   "cell_type": "code",
   "execution_count": null,
   "id": "5eac7c35",
   "metadata": {},
   "outputs": [],
   "source": [
    "# 1005 - Média 1 #\n",
    "\n",
    "a = float(input());\n",
    "b = float(input());\n",
    "\n",
    "x = (3.5*a+7.5*b)/11;\n",
    "\n",
    "print(\"MEDIA = %.5f\"%x)"
   ]
  },
  {
   "cell_type": "code",
   "execution_count": null,
   "id": "c9af5217",
   "metadata": {},
   "outputs": [],
   "source": [
    "# 1006 - Média 2 #\n",
    "\n",
    "a = float(input());\n",
    "b = float(input());\n",
    "c = float(input());\n",
    "\n",
    "x = (2*a+3*b+5*c)/10;\n",
    "\n",
    "print(\"MEDIA = %.1f\"%x)"
   ]
  },
  {
   "cell_type": "code",
   "execution_count": null,
   "id": "ff5d451f",
   "metadata": {},
   "outputs": [],
   "source": [
    "# 1007 - Diferença #\n",
    "\n",
    "a = int(input());\n",
    "b = int(input());\n",
    "c = int(input());\n",
    "d = int(input());\n",
    "\n",
    "x = a*b-c*d;\n",
    "\n",
    "print(\"DIFERENCA =\",x)"
   ]
  },
  {
   "cell_type": "code",
   "execution_count": null,
   "id": "c2bd6331",
   "metadata": {},
   "outputs": [],
   "source": [
    "# 1008 - Salário #\n",
    "\n",
    "a = int(input());\n",
    "b = int(input());\n",
    "c = float(input());\n",
    "\n",
    "x = b*c;\n",
    "\n",
    "print(\"NUMBER =\",a)\n",
    "print(\"SALARY = U$ %.2f\"%x)"
   ]
  },
  {
   "cell_type": "code",
   "execution_count": null,
   "id": "4832aace",
   "metadata": {},
   "outputs": [],
   "source": [
    "# 1010 - Cálculo Simples #\n",
    "\n",
    "a,b,c = input().split()\n",
    "d,e,f = input().split()\n",
    "\n",
    "a,b,c = [float (x) for x in [a, b, c]] \n",
    "d,e,f = [float (x) for x in [d, e, f]]\n",
    "\n",
    "x = b*c+e*f;\n",
    "\n",
    "print(\"VALOR A PAGAR: R$ %0.2f\"%x)"
   ]
  },
  {
   "cell_type": "code",
   "execution_count": null,
   "id": "f22d8d9a",
   "metadata": {},
   "outputs": [],
   "source": [
    "# 1011 - Esfera#\n",
    "\n",
    "a = float(input())\n",
    "\n",
    "v = (4/3)*3.14159*a*a*a;\n",
    "\n",
    "print(\"VOLUME = %.3f\"%v)"
   ]
  },
  {
   "cell_type": "code",
   "execution_count": null,
   "id": "49426cce",
   "metadata": {},
   "outputs": [],
   "source": [
    "# 1012 - Área #\n",
    "\n",
    "a,b,c = input().split()\n",
    "a,b,c = [float (x) for x in [a, b, c]] \n",
    "\n",
    "t = a*c/2;\n",
    "cr = c*c*3.14159;\n",
    "p = (a+b)*c/2;\n",
    "q = b*b;\n",
    "r = a*b;\n",
    "\n",
    "print(\"TRIANGULO: %.3f\"%t)\n",
    "print(\"CIRCULO: %.3f\"%cr)\n",
    "print(\"TRAPEZIO: %.3f\"%p)\n",
    "print(\"QUADRADO: %.3f\"%q)\n",
    "print(\"RETANGULO: %.3f\"%r)"
   ]
  },
  {
   "cell_type": "code",
   "execution_count": null,
   "id": "30d3b48a",
   "metadata": {},
   "outputs": [],
   "source": [
    "# 1013 - O Maior #\n",
    "\n",
    "a,b,c = input().split()\n",
    "a,b,c = [int (x) for x in [a, b, c]] \n",
    "\n",
    "x = (a+b+abs(a-b))/2\n",
    "y = int((x+c+abs(x-c))/2)\n",
    "\n",
    "print(y,\"eh o maior\");"
   ]
  },
  {
   "cell_type": "code",
   "execution_count": null,
   "id": "4c3fcea4",
   "metadata": {},
   "outputs": [],
   "source": [
    "# 1014 - Consumo #\n",
    "\n",
    "a = int(input());\n",
    "b = float(input());\n",
    "\n",
    "x = a/b;\n",
    "\n",
    "print(\"%.3f km/l\"%x)"
   ]
  },
  {
   "cell_type": "code",
   "execution_count": null,
   "id": "4d38ec15",
   "metadata": {},
   "outputs": [],
   "source": [
    "# 1015 - Distância Entre Dois Pontos #\n",
    "\n",
    "import math as mt\n",
    "a, b = input().split()\n",
    "c, d = input().split()\n",
    "\n",
    "a, b = [float(a), float(b)]\n",
    "c, d = [float(c), float(d)]\n",
    "\n",
    "x = mt.pow((c-a)*(c-a)+(d-b)*(d-b),0.5)\n",
    "\n",
    "print(\"%.4f\"%x)"
   ]
  },
  {
   "cell_type": "code",
   "execution_count": null,
   "id": "0d4e41f4",
   "metadata": {},
   "outputs": [],
   "source": [
    "# 1016 - Distância #\n",
    "\n",
    "a = int(input());\n",
    "\n",
    "x = 2*a;\n",
    "\n",
    "print(x,\"minutos\")"
   ]
  },
  {
   "cell_type": "code",
   "execution_count": null,
   "id": "c572a16e",
   "metadata": {},
   "outputs": [],
   "source": [
    "# 1017 - Gasto de Combustível #\n",
    "\n",
    "a = int(input());\n",
    "b = int(input());\n",
    "\n",
    "x = a*b/12;\n",
    "\n",
    "print(\"%.3f\"%x)"
   ]
  },
  {
   "cell_type": "code",
   "execution_count": null,
   "id": "88b3dfdb",
   "metadata": {},
   "outputs": [],
   "source": [
    "# 1018 - Cédulas #\n",
    "\n",
    "n = int(input())\n",
    "\n",
    "a = int(n/100);\n",
    "b = int((n-100*a)/50);\n",
    "c = int((n-100*a-50*b)/20);\n",
    "d = int((n-100*a-50*b-20*c)/10);\n",
    "e = int((n-100*a-50*b-20*c-10*d)/5);\n",
    "f = int((n-100*a-50*b-20*c-10*d-5*e)/2);\n",
    "g = n-100*a-50*b-20*c-10*d-5*e-2*f;\n",
    "\n",
    "print(n)\n",
    "print(a,\"nota(s) de R$ 100,00\");\n",
    "print(b,\"nota(s) de R$ 50,00\");\n",
    "print(c,\"nota(s) de R$ 20,00\");\n",
    "print(d,\"nota(s) de R$ 10,00\");\n",
    "print(e,\"nota(s) de R$ 5,00\");\n",
    "print(f,\"nota(s) de R$ 2,00\");\n",
    "print(g,\"nota(s) de R$ 1,00\");\n"
   ]
  },
  {
   "cell_type": "code",
   "execution_count": null,
   "id": "1edc043a",
   "metadata": {},
   "outputs": [],
   "source": [
    "# 1019 - Conversão de Tempo #\n",
    "\n",
    "a = int(input());\n",
    "\n",
    "h = int(a/3600);\n",
    "\n",
    "m = int((a-3600*h)/60);\n",
    "\n",
    "seg = a-3600*h-60*m;\n",
    "\n",
    "t1=h;\n",
    "t2=m;\n",
    "t3=seg;\n",
    "\n",
    "dicio={\"t1\":h,\"t2\":m,\"t3\":seg};\n",
    "\n",
    "print(\"%(t1)s:%(t2)s:%(t3)s\"%dicio)"
   ]
  },
  {
   "cell_type": "code",
   "execution_count": null,
   "id": "699dc978",
   "metadata": {},
   "outputs": [],
   "source": [
    "# 1020 - Idade em Dias #\n",
    "\n",
    "d = int(input())\n",
    "\n",
    "a = int(d/365);\n",
    "\n",
    "b = int((d-365*a)/30);\n",
    "\n",
    "c = d-365*a-30*b;\n",
    "\n",
    "print(a,\"ano(s)\")\n",
    "print(b,\"mes(es)\")\n",
    "print(c,\"dia(s)\")"
   ]
  },
  {
   "cell_type": "code",
   "execution_count": null,
   "id": "a6ccdb92",
   "metadata": {},
   "outputs": [],
   "source": [
    "# 1035 - Teste de Selecao 1\n",
    "\n",
    "a, b, c, d = input().split()\n",
    "a, b, c, d = [int(a),int(b),int(c),int(d)]\n",
    "\n",
    "if (b>c) and (d>a) and (c+d>a+b) and (c>0) and (d>0) and (a%2==0):\n",
    "    print(\"Valores aceitos\")\n",
    "else:\n",
    "    print(\"Valores nao aceitos\")"
   ]
  },
  {
   "cell_type": "code",
   "execution_count": null,
   "id": "ea4175b2",
   "metadata": {},
   "outputs": [],
   "source": [
    "# 1036 - Formula de Baskara \n",
    "\n",
    "import math as mt\n",
    "a, b, c = input().split()\n",
    "a, b, c = [float(a), float(b), float(c)]\n",
    "x = b*b-4*a*c\n",
    "if a!=0 and x>=0:\n",
    "    x1=(-b+mt.sqrt(x))/(2*a)\n",
    "    x2=(-b-mt.sqrt(x))/(2*a)\n",
    "    print(\"R1 = %0.5f\"%x1)\n",
    "    print(\"R2 = %0.5f\"%x2)\n",
    "else:\n",
    "    print(\"Impossivel calcular\")"
   ]
  },
  {
   "cell_type": "code",
   "execution_count": null,
   "id": "4583547e",
   "metadata": {},
   "outputs": [],
   "source": [
    "# 1037 - Intervalo\n",
    "\n",
    "a = float(input())\n",
    "\n",
    "if a>=0 and a<=25:\n",
    "    print(\"Intervalo [0,25]\")\n",
    "elif a>25 and a<=50:\n",
    "    print(\"Intervalo (25,50]\")\n",
    "elif a>50 and a<=75:\n",
    "    print(\"Intervalo (50,75]\")\n",
    "elif a>75 and a<=100:\n",
    "    print(\"Intervalo (75,100]\")\n",
    "else:\n",
    "    print(\"Fora de intervalo\")"
   ]
  },
  {
   "cell_type": "code",
   "execution_count": null,
   "id": "9d0bdb97",
   "metadata": {},
   "outputs": [],
   "source": [
    "# 1038 - Lanche\n",
    "\n",
    "a, b = map(int, input().split())\n",
    "l = [4.00,4.50,5.00,2.00,1.50]\n",
    "x = l[a-1]*b\n",
    "print(\"Total: R$ %.2f\"%x)"
   ]
  },
  {
   "cell_type": "code",
   "execution_count": null,
   "id": "79e8dc41",
   "metadata": {},
   "outputs": [],
   "source": [
    "# 1041 - Coordenadas de um Ponto #\n",
    "\n",
    "a, b = input().split()\n",
    "a, b = [float(a), float(b)]\n",
    "\n",
    "if a==0 and b==0:\n",
    "    print(\"Origem\")\n",
    "elif a==0:\n",
    "    print(\"Eixo Y\")\n",
    "elif b==0:\n",
    "    print(\"Eixo X\")\n",
    "elif a>0 and b>0:\n",
    "    print(\"Q1\")\n",
    "elif a<0 and b>0:\n",
    "    print(\"Q2\")\n",
    "elif a<0 and b<0:\n",
    "    print(\"Q3\")\n",
    "else:\n",
    "    print(\"Q4\")"
   ]
  },
  {
   "cell_type": "code",
   "execution_count": null,
   "id": "74220670",
   "metadata": {},
   "outputs": [],
   "source": [
    "# 1042 - Sort Simples\n",
    "\n",
    "l = []\n",
    "l = list(map(int, input().split(\" \")))\n",
    "m = sorted(l)\n",
    "k = len(l)\n",
    "for i in range(k):\n",
    "    print(m[i])\n",
    "print()\n",
    "for i in range(k):\n",
    "    print(l[i])"
   ]
  },
  {
   "cell_type": "code",
   "execution_count": null,
   "id": "35ab5cbc",
   "metadata": {},
   "outputs": [],
   "source": [
    "# 1047 - Tempo de Jogo com Minutos #\n",
    "\n",
    "a,b,c,d = input().split()\n",
    "\n",
    "a,b,c,d = [int(a), int(b), int(c), int(d)]\n",
    "\n",
    "if a==c and b==d:\n",
    "    print(\"O JOGO DUROU 24 HORA(S) E 0 MINUTO(S)\")\n",
    "elif a==c and b<d:\n",
    "    print(\"O JOGO DUROU 0 HORA(S) E\",d-b,\"MINUTO(S)\")\n",
    "elif a==c and b>d:\n",
    "    k = 60-(b-d);\n",
    "    print(\"O JOGO DUROU 23 HORA(S) E\",k,\"MINUTO(S)\")\n",
    "elif c>a:\n",
    "    x = 60*a+b;\n",
    "    y = 60*c+d;\n",
    "\n",
    "    t = y-x;\n",
    "    v = int(t/60);\n",
    "\n",
    "    print(\"O JOGO DUROU\",v,\"HORA(S) E\",t-60*v,\"MINUTO(S)\")\n",
    "else:\n",
    "    m = 1440-(60*a+b)+60*c+d;\n",
    "    n = int(m/60);\n",
    "    print(\"O JOGO DUROU\",n,\"HORA(S) E\",m-60*n,\"MINUTO(S)\")"
   ]
  },
  {
   "cell_type": "code",
   "execution_count": null,
   "id": "8aaac9fc",
   "metadata": {},
   "outputs": [],
   "source": [
    "# 1050 - DDD\n",
    "\n",
    "n = int(input())\n",
    "\n",
    "k={61:'Brasilia',71:'Salvador',11:'Sao Paulo',21:'Rio de Janeiro',32:'Juiz de Fora',19:'Campinas',27:'Vitoria',31:'Belo Horizonte'}\n",
    "if n in k:\n",
    "    print(k[n])\n",
    "else:\n",
    "    print(\"DDD nao cadastrado\")\n",
    "\n"
   ]
  },
  {
   "cell_type": "code",
   "execution_count": null,
   "id": "f2ed86c7",
   "metadata": {},
   "outputs": [],
   "source": [
    "# 1052 - Mes\n",
    "\n",
    "n = int(input())\n",
    "meses = ['January','February','March','April','May','June','July','August','September','October','November','December']\n",
    "print(meses[n-1])"
   ]
  },
  {
   "cell_type": "code",
   "execution_count": null,
   "id": "47e62b43",
   "metadata": {},
   "outputs": [],
   "source": [
    "# 1059 - Numeros Pares \n",
    "\n",
    "for i in range(1,50):\n",
    "    print(2*i)\n",
    "print(100)"
   ]
  },
  {
   "cell_type": "code",
   "execution_count": null,
   "id": "444e5e66",
   "metadata": {},
   "outputs": [],
   "source": [
    "# 1064 - Positivos e Media\n",
    "\n",
    "l=[]\n",
    "l.append(float(input()))\n",
    "l.append(float(input()))\n",
    "l.append(float(input()))\n",
    "l.append(float(input()))\n",
    "l.append(float(input()))\n",
    "l.append(float(input()))\n",
    "c=0\n",
    "s=0\n",
    "for i in range(6):\n",
    "    if l[i] > 0:\n",
    "        c=c+1\n",
    "        s=s+l[i]\n",
    "print(c,\"valores positivos\")\n",
    "s=s/c\n",
    "print(\"%.1f\"%s)"
   ]
  },
  {
   "cell_type": "code",
   "execution_count": null,
   "id": "62f7b0fa",
   "metadata": {},
   "outputs": [],
   "source": [
    "# 1065 - Pares entre Cinco Números #\n",
    "\n",
    "l = []\n",
    "c = 0\n",
    "for _ in range(5):\n",
    "    l.append(int(input()))\n",
    "    \n",
    "for i in range(5):\n",
    "    if abs(l[i]) % 2 == 0:\n",
    "        c=c+1\n",
    "print(c,\"valores pares\")\n"
   ]
  },
  {
   "cell_type": "code",
   "execution_count": null,
   "id": "22b51fe1",
   "metadata": {},
   "outputs": [],
   "source": [
    "# 1067 - Numeros Impares\n",
    "\n",
    "a = int(input())\n",
    "\n",
    "for i in range (1,a+a%2+1,2):\n",
    "    print(i)"
   ]
  },
  {
   "cell_type": "code",
   "execution_count": null,
   "id": "0fd10f0f",
   "metadata": {},
   "outputs": [],
   "source": [
    "# 1070 - Seis Números Ímpares #\n",
    "\n",
    "a = int(input())\n",
    "\n",
    "if a%2 == 1:\n",
    "    for i in range(6):\n",
    "        print(a+i*2)\n",
    "else:\n",
    "    for i in range(6):\n",
    "        print(a+1+i*2)"
   ]
  },
  {
   "cell_type": "code",
   "execution_count": null,
   "id": "d673bb2a",
   "metadata": {},
   "outputs": [],
   "source": [
    "# 1071 - Soma de impares Consecutivos\n",
    "\n",
    "b = int(input())\n",
    "a = int(input())\n",
    "x=0;\n",
    "y=0\n",
    "if a%2==0:\n",
    "    for i in range(a+1,b,2):\n",
    "        x = x+i\n",
    "    print(x)\n",
    "if a%2==1:\n",
    "    for i in range(a+2,b,2):\n",
    "        y = y+i\n",
    "    print(y)"
   ]
  },
  {
   "cell_type": "code",
   "execution_count": null,
   "id": "131dac40",
   "metadata": {},
   "outputs": [],
   "source": [
    "# 1072 - Intervalo 2\n",
    "\n",
    "n = int(input())\n",
    "c=0\n",
    "for i in range(n):\n",
    "    x = int(input())\n",
    "    if 10<= x and x<= 20:\n",
    "        c=c+1\n",
    "print(c,\"in\")\n",
    "print(n-c,\"out\")\n"
   ]
  },
  {
   "cell_type": "code",
   "execution_count": null,
   "id": "4022e5e2",
   "metadata": {},
   "outputs": [],
   "source": [
    "# 1073 - Quadrado de Pares\n",
    "\n",
    "a = int(input())\n",
    "\n",
    "for i in range (2,a-a%2+1,2):\n",
    "    print(i,\"^2 = \",i*i,sep='')"
   ]
  },
  {
   "cell_type": "code",
   "execution_count": null,
   "id": "55ddf2f4",
   "metadata": {},
   "outputs": [],
   "source": [
    "# 1074 - Par ou Impar\n",
    "\n",
    "n = int(input())\n",
    "\n",
    "for _ in range(n):\n",
    "    x = int(input())\n",
    "    if x == 0:\n",
    "        print(\"NULL\")\n",
    "    if x%2 == 0 and x>0:\n",
    "        print(\"EVEN POSITIVE\")\n",
    "    if x%2 == 1 and x>0:\n",
    "        print(\"ODD POSITIVE\")\n",
    "    if x%2 == 0 and x<0:\n",
    "        print(\"EVEN NEGATIVE\")\n",
    "    if x%2 == 1 and x<0:\n",
    "        print(\"ODD NEGATIVE\")"
   ]
  },
  {
   "cell_type": "code",
   "execution_count": null,
   "id": "a2e37a26",
   "metadata": {},
   "outputs": [],
   "source": [
    "# 1075 - Resto 2\n",
    "\n",
    "n = int(input())\n",
    "x = 2\n",
    "while x<=10000:\n",
    "    print(x)\n",
    "    x=x+n\n"
   ]
  },
  {
   "cell_type": "code",
   "execution_count": null,
   "id": "5f18b566",
   "metadata": {},
   "outputs": [],
   "source": [
    "# 1078 - Tabuada\n",
    "\n",
    "a = int(input())\n",
    "\n",
    "for i in range(1,11):\n",
    "    print(i,\"x\",a,\"=\",i*a)"
   ]
  },
  {
   "cell_type": "code",
   "execution_count": null,
   "id": "71b3fff8",
   "metadata": {},
   "outputs": [],
   "source": [
    "# 1079 - Medias Ponderadas\n",
    "import math as mt\n",
    "n = int(input())\n",
    "for _ in range(n):\n",
    "    a, b, c = map(float, input().split())\n",
    "    x = (2*a+3*b+5*c)/10\n",
    "    print(round(x,1))"
   ]
  },
  {
   "cell_type": "code",
   "execution_count": null,
   "id": "1a1e287e",
   "metadata": {},
   "outputs": [],
   "source": [
    "# 1080 - Maior e Posicao\n",
    "\n",
    "l = []\n",
    "\n",
    "for i in range(100):\n",
    "    l.append(int(input()))\n",
    "print(max(l))\n",
    "print(l.index(max(l))+1)"
   ]
  },
  {
   "cell_type": "code",
   "execution_count": null,
   "id": "21f273a9",
   "metadata": {},
   "outputs": [],
   "source": [
    "# 1094 - Experiencias\n",
    "\n",
    "#(x)\n",
    "\n",
    "n = int(input())\n",
    "s = []\n",
    "coelhos = 0\n",
    "ratos = 0\n",
    "sapos = 0\n",
    "for _ in range(n):\n",
    "    s.append(str(input()))\n",
    "for i in range(len(s)):\n",
    "    if s[i][2] == 'C':\n",
    "        print(coelhos)\n",
    "        print(s[i][0])\n",
    "        coelhos = coelhos + int(s[i][0])\n",
    "        print(coelhos)\n",
    "    if s[i][2] == 'R':\n",
    "        ratos = ratos + int(s[i][0])\n",
    "    if s[i][2] == 'S':\n",
    "        sapos = sapos + int(s[i][0])\n",
    "print(s)\n",
    "total = coelhos+ratos+sapos\n",
    "print(\"Total:\",total,\"cobaias\")\n",
    "print('Total de coelhos:',coelhos)\n",
    "print('Total de ratos:',ratos)\n",
    "print('Total de sapos:',sapos)\n",
    "print('Percentual de coelhos: {0} %'.format(round(100*coelhos/total,2)))\n",
    "print('Percentual de ratos: {0} %'.format(round(100*ratos/total,2)))\n",
    "print('Percentual de sapos: {0} %'.format(round(100*sapos/total,2)))"
   ]
  },
  {
   "cell_type": "code",
   "execution_count": null,
   "id": "c14c4b4f",
   "metadata": {},
   "outputs": [],
   "source": [
    "# 1095 - Sequencioa IJ 1 \n",
    "\n",
    "\n",
    "for i in range(0,13):\n",
    "    print(\"I=\",1+3*(i),\" \",\"J=\",60-5*i,sep='')"
   ]
  },
  {
   "cell_type": "code",
   "execution_count": null,
   "id": "b6fa74ae",
   "metadata": {},
   "outputs": [],
   "source": [
    "# 1096 - Sequencioa IJ 2 \n",
    "\n",
    "for i in range (1,11,2):\n",
    "    print(\"I=\",i,\" \",\"J=7\",sep='')\n",
    "    print(\"I=\",i,\" \",\"J=6\",sep='')\n",
    "    print(\"I=\",i,\" \",\"J=5\",sep='')"
   ]
  },
  {
   "cell_type": "code",
   "execution_count": null,
   "id": "24ae9b01",
   "metadata": {},
   "outputs": [],
   "source": [
    "# 1097 - Sequencioa IJ 3 \n",
    "\n",
    "for i in range(1,11,2):\n",
    "    print(\"I=\",i,\" \",\"J=\",i+6,sep='')\n",
    "    print(\"I=\",i,\" \",\"J=\",i+5,sep='')\n",
    "    print(\"I=\",i,\" \",\"J=\",i+4,sep='')"
   ]
  },
  {
   "cell_type": "code",
   "execution_count": null,
   "id": "74cf78b9",
   "metadata": {},
   "outputs": [],
   "source": [
    "# 1114 - Senha Fixa\n",
    "\n",
    "#(x)\n",
    "\n",
    "while True:\n",
    "    n = int(input())\n",
    "    if n == 2002:\n",
    "        print(\"Acesso Permitido\")\n",
    "        break\n",
    "    else:\n",
    "        print(\"Senha Invalida\")"
   ]
  },
  {
   "cell_type": "code",
   "execution_count": null,
   "id": "4f579159",
   "metadata": {},
   "outputs": [],
   "source": [
    "# 1115 - Quadrante\n",
    "\n",
    "#(x)\n",
    "\n",
    "a, b = map(int, input().split())\n",
    "while True:\n",
    "    if a>0 and b>0:\n",
    "        print(\"primeiro\")\n",
    "        \n",
    "    if a<0 and b>0:\n",
    "        print(\"segundo\")\n",
    "        \n",
    "    if a<0 and b<0:\n",
    "        print(\"terceiro\")\n",
    "    \n",
    "    if a>0 and b<0:\n",
    "        print(\"quarto\")\n",
    "        \n",
    "    if a==0 or b==0:\n",
    "        print()\n",
    "        break"
   ]
  },
  {
   "cell_type": "code",
   "execution_count": null,
   "id": "be6be366",
   "metadata": {},
   "outputs": [],
   "source": [
    "# 1142 - PUM \n",
    "\n",
    "a = int(input())\n",
    "\n",
    "for i in range(0,a):\n",
    "    print(1+4*i,2+4*i,3+4*i,\"PUM\")"
   ]
  },
  {
   "cell_type": "code",
   "execution_count": null,
   "id": "90b693c8",
   "metadata": {},
   "outputs": [],
   "source": [
    "# 1143 - Quadrado e ao Cubo \n",
    "\n",
    "a = int(input())\n",
    "\n",
    "for i in range(1,a+1):\n",
    "    print(i,i*i,i*i*i)"
   ]
  },
  {
   "cell_type": "code",
   "execution_count": null,
   "id": "1c600b17",
   "metadata": {},
   "outputs": [],
   "source": [
    "# 1153 - Fatorial Simples \n",
    "\n",
    "n = int(input())\n",
    "\n",
    "x = n\n",
    "\n",
    "for i in range(1,n):\n",
    "    x = x*(n-i)\n",
    "print(x)"
   ]
  },
  {
   "cell_type": "code",
   "execution_count": null,
   "id": "8c6c0d2a",
   "metadata": {},
   "outputs": [],
   "source": [
    "# 1154 - Idades\n",
    "\n",
    "l=[]\n",
    "while True:\n",
    "    n = int(input())\n",
    "    if n<0:\n",
    "        break\n",
    "    else:\n",
    "        l.append(n)\n",
    "x = sum(l)/len(l)\n",
    "print(\"%.2f\"%x)"
   ]
  },
  {
   "cell_type": "code",
   "execution_count": null,
   "id": "ee9abf45",
   "metadata": {},
   "outputs": [],
   "source": [
    "# 1155 - Sequencia S \n",
    "\n",
    "s=0\n",
    "for i in range(1,101):\n",
    "    s = s+1/i\n",
    "print(\"%0.2f\"%s)"
   ]
  },
  {
   "cell_type": "code",
   "execution_count": null,
   "id": "5c73382d",
   "metadata": {},
   "outputs": [],
   "source": [
    "# 1156 Sequencia S II\n",
    "\n",
    "import math as mt\n",
    "s=0\n",
    "for i in range(14):\n",
    "    s = s + (2*i+1)/mt.pow(2,i)\n",
    "print(\"%0.2f\"%s)"
   ]
  },
  {
   "cell_type": "code",
   "execution_count": null,
   "id": "fe9b7976",
   "metadata": {},
   "outputs": [],
   "source": [
    "# 1172 - Substituicao em Vetor I\n",
    "l=[]\n",
    "for i in range(10):\n",
    "    l.append(int(input()))\n",
    "for i in range(10):\n",
    "    if l[i]<=0:\n",
    "        l[i]=1\n",
    "    print(\"X[{0}] = {1}\".format(i,l[i]))"
   ]
  },
  {
   "cell_type": "code",
   "execution_count": null,
   "id": "ebab68c4",
   "metadata": {},
   "outputs": [],
   "source": [
    "# 1173 - Preenchiento de Vetor I\n",
    "\n",
    "n = int(input())\n",
    "l=[]\n",
    "l.append(n)\n",
    "for i in range(10):\n",
    "    l.append(2*l[i])\n",
    "    print(\"N[{0}] = {1}\".format(i,l[i]))"
   ]
  },
  {
   "cell_type": "code",
   "execution_count": null,
   "id": "58a19753",
   "metadata": {},
   "outputs": [],
   "source": [
    "# 1174 - Selecao em Vetor I\n",
    "\n",
    "l=[]\n",
    "for i in range(100):\n",
    "    l.append(float(input()))\n",
    "    if l[i]<10:\n",
    "        print(\"A[{0}] = {1}\".format(i,l[i]))"
   ]
  },
  {
   "cell_type": "code",
   "execution_count": null,
   "id": "227bdde4",
   "metadata": {},
   "outputs": [],
   "source": [
    "# 1175 - Troca em Vetor I\n",
    "\n",
    "import numpy as np\n",
    "l=[]\n",
    "m=np.zeros(20,dtype=int)\n",
    "for i in range(20):\n",
    "    l.append(int(input()))\n",
    "for i in range(20):\n",
    "    print(\"N[{0}] = {1}\".format(i,l[19-i]))\n"
   ]
  },
  {
   "cell_type": "code",
   "execution_count": null,
   "id": "3b1cddbb",
   "metadata": {},
   "outputs": [],
   "source": [
    "# 1176 - Fibonacci em Vetor\n",
    "\n",
    "fibo = []\n",
    "fibo.append(0)\n",
    "fibo.append(1)\n",
    "\n",
    "for i in range(61):\n",
    "    fibo.append(fibo[i]+fibo[i+1])\n",
    "n = int(input())\n",
    "for _ in range(n):\n",
    "    x = int(input())\n",
    "    print(\"Fib({0}) = {1}\".format(x,fibo[x]))\n"
   ]
  },
  {
   "cell_type": "code",
   "execution_count": null,
   "id": "d87ade28",
   "metadata": {},
   "outputs": [],
   "source": [
    "# 1933 - Tri-du\n",
    "\n",
    "a, b = input().split()\n",
    "a, b = [int(a), int(b)]\n",
    "\n",
    "if a==b:\n",
    "    print(a)\n",
    "elif a<b:\n",
    "    print(b)\n",
    "else:\n",
    "    print(a)"
   ]
  },
  {
   "cell_type": "code",
   "execution_count": null,
   "id": "b9aee3ae",
   "metadata": {},
   "outputs": [],
   "source": [
    "# 1963 - O Filme\n",
    "\n",
    "a, b = input().split()\n",
    "a, b = [float(a), float(b)]\n",
    "\n",
    "x = ((b-a)/a)*100\n",
    "\n",
    "print(\"%0.2f\"%x,'%',sep='')"
   ]
  },
  {
   "cell_type": "code",
   "execution_count": null,
   "id": "de69b0d2",
   "metadata": {},
   "outputs": [],
   "source": [
    "# 2670 - Máquina de Café#\n",
    "\n",
    "a = int(input())\n",
    "b = int(input())\n",
    "c = int(input())\n",
    "\n",
    "l = []\n",
    "\n",
    "l.append(2*(b+2*c))\n",
    "l.append(2*(a+c))\n",
    "l.append(2*(2*a+b))\n",
    "\n",
    "print(min(l))"
   ]
  },
  {
   "cell_type": "code",
   "execution_count": null,
   "id": "9b1c1754",
   "metadata": {},
   "outputs": [],
   "source": [
    "# 2717 - Tempo do Duende #\n",
    "\n",
    "n = int(input())\n",
    "t1,t2 = input().split()\n",
    "t1,t2 = [int(t1), int(t2)]\n",
    "\n",
    "if n<t1+t2:\n",
    "    print(\"Deixa para amanha!\")\n",
    "else:\n",
    "    print(\"Farei hoje!\")"
   ]
  },
  {
   "cell_type": "code",
   "execution_count": null,
   "id": "7bfb1c79",
   "metadata": {},
   "outputs": [],
   "source": [
    "# 2780 - Basquete de Robôs #\n",
    "\n",
    "a = int(input())\n",
    "\n",
    "if a<=800:\n",
    "    print(1)\n",
    "elif a<=1400:\n",
    "    print(2)\n",
    "else:\n",
    "    print(3)"
   ]
  },
  {
   "cell_type": "code",
   "execution_count": null,
   "id": "ceb9e14d",
   "metadata": {},
   "outputs": [],
   "source": [
    "# 2786 - Piso da Escola #\n",
    "\n",
    "a = int(input())\n",
    "b = int(input())\n",
    "\n",
    "print(a*b+(a-1)*(b-1))\n",
    "print(2*(a+b-2))"
   ]
  },
  {
   "cell_type": "code",
   "execution_count": null,
   "id": "d757aaeb",
   "metadata": {},
   "outputs": [],
   "source": [
    "# 2850 - Papagaio Poliglota\n",
    "#(x)\n",
    "s = str(input())\n",
    "if s == 'esquerda':\n",
    "    print('ingles')\n",
    "    print('\\n')\n",
    "if s == 'direita':\n",
    "    print('frances')\n",
    "    print('\\n')\n",
    "if s == 'nenhuma':\n",
    "    print('portugues')\n",
    "    print('\\n')\n",
    "if s == 'as duas':\n",
    "    print('caiu')\n",
    "    print('\\n')"
   ]
  },
  {
   "cell_type": "code",
   "execution_count": null,
   "id": "3ca5ccf2",
   "metadata": {},
   "outputs": [],
   "source": [
    "print('\\n')"
   ]
  },
  {
   "cell_type": "code",
   "execution_count": null,
   "id": "3bda63dc",
   "metadata": {},
   "outputs": [],
   "source": [
    "# 2862 - Inseto!\n",
    "\n",
    "n = int(input())\n",
    "for _ in range(n):\n",
    "    x = int(input())\n",
    "    if x<=8000:\n",
    "        print(\"Inseto!\")\n",
    "    else:\n",
    "        print(\"Mais de 8000!\")"
   ]
  },
  {
   "cell_type": "code",
   "execution_count": null,
   "id": "d1f04fce",
   "metadata": {},
   "outputs": [],
   "source": [
    "# 2936 - Quanta Mandioca? #\n",
    "\n",
    "a = int(input())\n",
    "b = int(input())\n",
    "c = int(input())\n",
    "d = int(input())\n",
    "e = int(input())\n",
    "\n",
    "print(300*a+1500*b+600*c+1000*d+150*e+225)"
   ]
  },
  {
   "cell_type": "code",
   "execution_count": null,
   "id": "fc74efad",
   "metadata": {},
   "outputs": [],
   "source": [
    "# 2987 - Balao de Honra\n",
    "\n",
    "s = str(input())\n",
    "alfabeto = list(map(chr, range(65, 91))) #ASC II\n",
    "print(alfabeto.index(s)+1)"
   ]
  },
  {
   "cell_type": "code",
   "execution_count": null,
   "id": "da4adbcd",
   "metadata": {},
   "outputs": [],
   "source": [
    "# 3055 - Nota Esqucida #\n",
    "\n",
    "a = int(input())\n",
    "b = int(input())\n",
    "\n",
    "print(2*b-a)"
   ]
  },
  {
   "cell_type": "code",
   "execution_count": null,
   "id": "9a409b1a",
   "metadata": {},
   "outputs": [],
   "source": [
    "# 3091 Resto 1.0 #\n",
    "\n",
    "a = int(input())\n",
    "b = int(input())\n",
    "\n",
    "print(a%b)"
   ]
  },
  {
   "cell_type": "code",
   "execution_count": null,
   "id": "955cde2f",
   "metadata": {},
   "outputs": [],
   "source": [
    "# 3170 - Bolinhas de Natal #\n",
    "\n",
    "b = int(input())\n",
    "g = int(input())\n",
    "\n",
    "x = int(g/2)\n",
    "\n",
    "if b>=x:\n",
    "    print(\"Amelia tem todas bolinhas!\")\n",
    "else:\n",
    "    print(\"Faltam\",x-b,\"bolinha(s)\")"
   ]
  },
  {
   "cell_type": "code",
   "execution_count": null,
   "id": "eb528cc6",
   "metadata": {},
   "outputs": [],
   "source": [
    "# 3224 - Aah!\n",
    "\n",
    "s1 = str(input())\n",
    "s2 = str(input())\n",
    "\n",
    "if len(s1) >= len(s2):\n",
    "    print(\"go\")\n",
    "else:\n",
    "    print(\"no\")"
   ]
  },
  {
   "cell_type": "code",
   "execution_count": null,
   "id": "e88c5a26",
   "metadata": {},
   "outputs": [],
   "source": [
    "# 3299 - Numeros Ma Sorte Pequenos\n",
    "\n",
    "n = int(input())\n",
    "s = [\"es de Mala Suerte\",\"NO es de Mala Suerte\"]\n",
    "x = [int(a) for a in str(n)]\n",
    "i = 0\n",
    "while i<len(x)-1:\n",
    "    if x[i]==1 and x[i+1]==3:\n",
    "        print(n,s[0])\n",
    "        break\n",
    "    i=i+1\n",
    "if i==len(x)-1:\n",
    "        print(n,s[1])"
   ]
  },
  {
   "cell_type": "code",
   "execution_count": null,
   "id": "9f2bb958",
   "metadata": {},
   "outputs": [],
   "source": [
    "# 3301 - Sobrinho do Meio #\n",
    "\n",
    "a, b, c = input().split()\n",
    "a, b, c = [int(a), int(b), int(c)]\n",
    "\n",
    "if (a>b and a<c) or (a>c and a<b):\n",
    "    print(\"huguinho\")\n",
    "if (b>a and b<c) or (b>c and b<a):\n",
    "    print(\"zezinho\")\n",
    "if (c>a and c<b) or (c>b and c<a):\n",
    "    print(\"luisinho\")"
   ]
  },
  {
   "cell_type": "code",
   "execution_count": null,
   "id": "591adddf",
   "metadata": {},
   "outputs": [],
   "source": [
    "# 3302 - Resposta Certa\n",
    "\n",
    "n = int(input())\n",
    "i=1\n",
    "for _ in range(n):\n",
    "    a = int(input())\n",
    "    print(\"resposta {0}: {1}\".format(i,a))\n",
    "    i=i+1"
   ]
  },
  {
   "cell_type": "code",
   "execution_count": null,
   "id": "227cc3df",
   "metadata": {},
   "outputs": [],
   "source": [
    "# 3303 - Palavrao\n",
    "\n",
    "s = str(input())\n",
    "if len(s) < 10:\n",
    "    print(\"palavrinha\")\n",
    "else:\n",
    "    print(\"palavrao\")"
   ]
  },
  {
   "cell_type": "code",
   "execution_count": null,
   "id": "3c3402c7",
   "metadata": {},
   "outputs": [],
   "source": [
    "# 3342 - Keanu #\n",
    "\n",
    "import math as mt\n",
    "n = int(input())\n",
    "\n",
    "x = mt.ceil(int(n*n/2));\n",
    "y = n*n-x;\n",
    "\n",
    "dicio={\"t1\":x,\"t2\":y};\n",
    "\n",
    "print(\"%(t2)s casas brancas e %(t1)s casas pretas\"%dicio)"
   ]
  },
  {
   "cell_type": "code",
   "execution_count": null,
   "id": "91f04d6c",
   "metadata": {},
   "outputs": [],
   "source": [
    "# 3346 - Flutuação do PIB \n",
    "\n",
    "a,b = input().split()\n",
    "a,b = [float(a), float(b)]\n",
    "\n",
    "x = ((1+0.01*a)*(1+0.01*b)-1)*100\n",
    "\n",
    "print(\"%0.6f\"%x)"
   ]
  }
 ],
 "metadata": {
  "kernelspec": {
   "display_name": "Python 3 (ipykernel)",
   "language": "python",
   "name": "python3"
  },
  "language_info": {
   "codemirror_mode": {
    "name": "ipython",
    "version": 3
   },
   "file_extension": ".py",
   "mimetype": "text/x-python",
   "name": "python",
   "nbconvert_exporter": "python",
   "pygments_lexer": "ipython3",
   "version": "3.9.7"
  }
 },
 "nbformat": 4,
 "nbformat_minor": 5
}
