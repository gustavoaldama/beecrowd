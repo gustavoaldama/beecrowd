{
 "cells": [
  {
   "cell_type": "code",
   "execution_count": null,
   "id": "1747e6c4",
   "metadata": {},
   "outputs": [],
   "source": [
    "# 1030 - A Lenda de flavius Josefo\n",
    "\n",
    "#(x)\n",
    "\n",
    "q = int(input())\n",
    "c=0\n",
    "for _ in range(q):\n",
    "    c=c+1\n",
    "    n, k = map(int, input().split())\n",
    "    l = list(range(n))\n",
    "    k -= 1\n",
    "    i = k\n",
    "    while len(l) > 1:\n",
    "        l.pop(i)\n",
    "        i = (i + k) % len(l)\n",
    "    print('case {0}: {1}'.format(c,l[0]))"
   ]
  },
  {
   "cell_type": "code",
   "execution_count": null,
   "id": "e2d2821e",
   "metadata": {},
   "outputs": [],
   "source": []
  }
 ],
 "metadata": {
  "kernelspec": {
   "display_name": "Python 3 (ipykernel)",
   "language": "python",
   "name": "python3"
  },
  "language_info": {
   "codemirror_mode": {
    "name": "ipython",
    "version": 3
   },
   "file_extension": ".py",
   "mimetype": "text/x-python",
   "name": "python",
   "nbconvert_exporter": "python",
   "pygments_lexer": "ipython3",
   "version": "3.9.7"
  }
 },
 "nbformat": 4,
 "nbformat_minor": 5
}
