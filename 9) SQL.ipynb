{
 "cells": [
  {
   "cell_type": "raw",
   "id": "76194335",
   "metadata": {},
   "source": [
    "2602 - Select Basico\n",
    "\n",
    "select name \n",
    "from customers \n",
    "where state = 'RS'"
   ]
  },
  {
   "cell_type": "raw",
   "id": "57f86a22",
   "metadata": {},
   "source": [
    "2603 - Endereco dos Clientes\n",
    "\n",
    "select name, street \n",
    "from customers \n",
    "where city = 'Porto Alegre'"
   ]
  },
  {
   "cell_type": "raw",
   "id": "be480c1a",
   "metadata": {},
   "source": [
    "2604 - Menores que 10 ou Maior que 10\n",
    "\n",
    "select id, name \n",
    "from products \n",
    "where price not between 10 and 100"
   ]
  },
  {
   "cell_type": "raw",
   "id": "a6c18d0e",
   "metadata": {},
   "source": [
    "2607 - Cidades em Ordem Alfabetica\n",
    "\n",
    "select city\n",
    "from providers\n",
    "order by city"
   ]
  },
  {
   "cell_type": "raw",
   "id": "8b6c8e40",
   "metadata": {},
   "source": [
    "2608 - Menor e Maior Preco\n",
    "\n",
    "select max(price), min(price)\n",
    "from products "
   ]
  },
  {
   "cell_type": "raw",
   "id": "bf21aa0f",
   "metadata": {},
   "source": [
    "2613 - Filmes em Promocao\n",
    "\n",
    "select id, name\n",
    "from movies \n",
    "where id_prices = 5"
   ]
  },
  {
   "cell_type": "raw",
   "id": "0709bcb9",
   "metadata": {},
   "source": [
    "2615 - Expandindo o Negocio\n",
    "\n",
    "select distinct(city)\n",
    "from customers"
   ]
  },
  {
   "cell_type": "raw",
   "id": "7ccd0798",
   "metadata": {},
   "source": [
    "2624 - Quantidade de Cidades por Clientes\n",
    "\n",
    "select count(distinct(city))\n",
    "from customers"
   ]
  },
  {
   "cell_type": "raw",
   "id": "0a48a82f",
   "metadata": {},
   "source": [
    "2746 - Virus\n",
    "\n",
    "select replace(name,'H1','X')\n",
    "from virus"
   ]
  }
 ],
 "metadata": {
  "kernelspec": {
   "display_name": "Python 3 (ipykernel)",
   "language": "python",
   "name": "python3"
  },
  "language_info": {
   "codemirror_mode": {
    "name": "ipython",
    "version": 3
   },
   "file_extension": ".py",
   "mimetype": "text/x-python",
   "name": "python",
   "nbconvert_exporter": "python",
   "pygments_lexer": "ipython3",
   "version": "3.9.7"
  }
 },
 "nbformat": 4,
 "nbformat_minor": 5
}
