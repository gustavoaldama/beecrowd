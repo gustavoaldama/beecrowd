{
 "cells": [
  {
   "cell_type": "code",
   "execution_count": null,
   "id": "21e4b196",
   "metadata": {},
   "outputs": [],
   "source": [
    "# 3300 - Numeros Ma Sorte Regarregados\n",
    "\n",
    "n = int(input())\n",
    "s = [\"es de Mala Suerte\",\"NO es de Mala Suerte\"]\n",
    "x = [int(a) for a in str(n)]\n",
    "i = 0\n",
    "while i<len(x)-1:\n",
    "    if x[i]==1 and x[i+1]==3:\n",
    "        print(n,s[0])\n",
    "        break\n",
    "    i=i+1\n",
    "if i==len(x)-1:\n",
    "        print(n,s[1])"
   ]
  }
 ],
 "metadata": {
  "kernelspec": {
   "display_name": "Python 3 (ipykernel)",
   "language": "python",
   "name": "python3"
  },
  "language_info": {
   "codemirror_mode": {
    "name": "ipython",
    "version": 3
   },
   "file_extension": ".py",
   "mimetype": "text/x-python",
   "name": "python",
   "nbconvert_exporter": "python",
   "pygments_lexer": "ipython3",
   "version": "3.9.7"
  }
 },
 "nbformat": 4,
 "nbformat_minor": 5
}
